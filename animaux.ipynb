{
 "cells": [
  {
   "cell_type": "markdown",
   "id": "4a744876",
   "metadata": {},
   "source": [
    "# Base de données d'animaux"
   ]
  },
  {
   "cell_type": "markdown",
   "id": "577fed0b",
   "metadata": {},
   "source": [
    "## Générer le dataframe\n",
    "\n",
    "Utilise panda pour générer une dataframe à partir du fichier en utilisant les tab comme séparateurs"
   ]
  },
  {
   "cell_type": "code",
   "execution_count": 1,
   "id": "89cbf699",
   "metadata": {},
   "outputs": [
    {
     "data": {
      "text/html": [
       "<div>\n",
       "<style scoped>\n",
       "    .dataframe tbody tr th:only-of-type {\n",
       "        vertical-align: middle;\n",
       "    }\n",
       "\n",
       "    .dataframe tbody tr th {\n",
       "        vertical-align: top;\n",
       "    }\n",
       "\n",
       "    .dataframe thead th {\n",
       "        text-align: right;\n",
       "    }\n",
       "</style>\n",
       "<table border=\"1\" class=\"dataframe\">\n",
       "  <thead>\n",
       "    <tr style=\"text-align: right;\">\n",
       "      <th></th>\n",
       "      <th>MSW05_Order</th>\n",
       "      <th>MSW05_Family</th>\n",
       "      <th>MSW05_Genus</th>\n",
       "      <th>MSW05_Species</th>\n",
       "      <th>MSW05_Binomial</th>\n",
       "      <th>1-1_ActivityCycle</th>\n",
       "      <th>5-1_AdultBodyMass_g</th>\n",
       "      <th>8-1_AdultForearmLen_mm</th>\n",
       "      <th>13-1_AdultHeadBodyLen_mm</th>\n",
       "      <th>2-1_AgeatEyeOpening_d</th>\n",
       "      <th>...</th>\n",
       "      <th>26-6_GR_MinLong_dd</th>\n",
       "      <th>26-7_GR_MidRangeLong_dd</th>\n",
       "      <th>27-1_HuPopDen_Min_n/km2</th>\n",
       "      <th>27-2_HuPopDen_Mean_n/km2</th>\n",
       "      <th>27-3_HuPopDen_5p_n/km2</th>\n",
       "      <th>27-4_HuPopDen_Change</th>\n",
       "      <th>28-1_Precip_Mean_mm</th>\n",
       "      <th>28-2_Temp_Mean_01degC</th>\n",
       "      <th>30-1_AET_Mean_mm</th>\n",
       "      <th>30-2_PET_Mean_mm</th>\n",
       "    </tr>\n",
       "  </thead>\n",
       "  <tbody>\n",
       "    <tr>\n",
       "      <th>0</th>\n",
       "      <td>Artiodactyla</td>\n",
       "      <td>Camelidae</td>\n",
       "      <td>Camelus</td>\n",
       "      <td>dromedarius</td>\n",
       "      <td>Camelus dromedarius</td>\n",
       "      <td>3.0</td>\n",
       "      <td>492714.47</td>\n",
       "      <td>-999.0</td>\n",
       "      <td>-999.00</td>\n",
       "      <td>-999.00</td>\n",
       "      <td>...</td>\n",
       "      <td>-999.00</td>\n",
       "      <td>-999.00</td>\n",
       "      <td>-999</td>\n",
       "      <td>-999.00</td>\n",
       "      <td>-999.0</td>\n",
       "      <td>-999.00</td>\n",
       "      <td>-999.00</td>\n",
       "      <td>-999.00</td>\n",
       "      <td>-999.00</td>\n",
       "      <td>-999.00</td>\n",
       "    </tr>\n",
       "    <tr>\n",
       "      <th>1</th>\n",
       "      <td>Carnivora</td>\n",
       "      <td>Canidae</td>\n",
       "      <td>Canis</td>\n",
       "      <td>adustus</td>\n",
       "      <td>Canis adustus</td>\n",
       "      <td>1.0</td>\n",
       "      <td>10392.49</td>\n",
       "      <td>-999.0</td>\n",
       "      <td>745.32</td>\n",
       "      <td>-999.00</td>\n",
       "      <td>...</td>\n",
       "      <td>-17.53</td>\n",
       "      <td>13.00</td>\n",
       "      <td>0</td>\n",
       "      <td>35.20</td>\n",
       "      <td>1.0</td>\n",
       "      <td>0.14</td>\n",
       "      <td>90.75</td>\n",
       "      <td>236.51</td>\n",
       "      <td>922.90</td>\n",
       "      <td>1534.40</td>\n",
       "    </tr>\n",
       "    <tr>\n",
       "      <th>2</th>\n",
       "      <td>Carnivora</td>\n",
       "      <td>Canidae</td>\n",
       "      <td>Canis</td>\n",
       "      <td>aureus</td>\n",
       "      <td>Canis aureus</td>\n",
       "      <td>2.0</td>\n",
       "      <td>9658.70</td>\n",
       "      <td>-999.0</td>\n",
       "      <td>827.53</td>\n",
       "      <td>7.50</td>\n",
       "      <td>...</td>\n",
       "      <td>-17.05</td>\n",
       "      <td>45.74</td>\n",
       "      <td>0</td>\n",
       "      <td>79.29</td>\n",
       "      <td>0.0</td>\n",
       "      <td>0.10</td>\n",
       "      <td>44.61</td>\n",
       "      <td>217.23</td>\n",
       "      <td>438.02</td>\n",
       "      <td>1358.98</td>\n",
       "    </tr>\n",
       "    <tr>\n",
       "      <th>3</th>\n",
       "      <td>Carnivora</td>\n",
       "      <td>Canidae</td>\n",
       "      <td>Canis</td>\n",
       "      <td>latrans</td>\n",
       "      <td>Canis latrans</td>\n",
       "      <td>2.0</td>\n",
       "      <td>11989.10</td>\n",
       "      <td>-999.0</td>\n",
       "      <td>872.39</td>\n",
       "      <td>11.94</td>\n",
       "      <td>...</td>\n",
       "      <td>-168.12</td>\n",
       "      <td>-117.60</td>\n",
       "      <td>0</td>\n",
       "      <td>27.27</td>\n",
       "      <td>0.0</td>\n",
       "      <td>0.06</td>\n",
       "      <td>53.03</td>\n",
       "      <td>58.18</td>\n",
       "      <td>503.02</td>\n",
       "      <td>728.37</td>\n",
       "    </tr>\n",
       "    <tr>\n",
       "      <th>4</th>\n",
       "      <td>Carnivora</td>\n",
       "      <td>Canidae</td>\n",
       "      <td>Canis</td>\n",
       "      <td>lupus</td>\n",
       "      <td>Canis lupus</td>\n",
       "      <td>2.0</td>\n",
       "      <td>31756.51</td>\n",
       "      <td>-999.0</td>\n",
       "      <td>1055.00</td>\n",
       "      <td>14.01</td>\n",
       "      <td>...</td>\n",
       "      <td>-171.84</td>\n",
       "      <td>3.90</td>\n",
       "      <td>0</td>\n",
       "      <td>37.87</td>\n",
       "      <td>0.0</td>\n",
       "      <td>0.04</td>\n",
       "      <td>34.79</td>\n",
       "      <td>4.82</td>\n",
       "      <td>313.33</td>\n",
       "      <td>561.11</td>\n",
       "    </tr>\n",
       "    <tr>\n",
       "      <th>...</th>\n",
       "      <td>...</td>\n",
       "      <td>...</td>\n",
       "      <td>...</td>\n",
       "      <td>...</td>\n",
       "      <td>...</td>\n",
       "      <td>...</td>\n",
       "      <td>...</td>\n",
       "      <td>...</td>\n",
       "      <td>...</td>\n",
       "      <td>...</td>\n",
       "      <td>...</td>\n",
       "      <td>...</td>\n",
       "      <td>...</td>\n",
       "      <td>...</td>\n",
       "      <td>...</td>\n",
       "      <td>...</td>\n",
       "      <td>...</td>\n",
       "      <td>...</td>\n",
       "      <td>...</td>\n",
       "      <td>...</td>\n",
       "      <td>...</td>\n",
       "    </tr>\n",
       "    <tr>\n",
       "      <th>5411</th>\n",
       "      <td>Rodentia</td>\n",
       "      <td>Muridae</td>\n",
       "      <td>Zyzomys</td>\n",
       "      <td>argurus</td>\n",
       "      <td>Zyzomys argurus</td>\n",
       "      <td>-999.0</td>\n",
       "      <td>40.42</td>\n",
       "      <td>-999.0</td>\n",
       "      <td>107.83</td>\n",
       "      <td>-999.00</td>\n",
       "      <td>...</td>\n",
       "      <td>114.33</td>\n",
       "      <td>131.09</td>\n",
       "      <td>0</td>\n",
       "      <td>1.10</td>\n",
       "      <td>0.0</td>\n",
       "      <td>0.02</td>\n",
       "      <td>62.33</td>\n",
       "      <td>256.75</td>\n",
       "      <td>692.93</td>\n",
       "      <td>1704.98</td>\n",
       "    </tr>\n",
       "    <tr>\n",
       "      <th>5412</th>\n",
       "      <td>Rodentia</td>\n",
       "      <td>Muridae</td>\n",
       "      <td>Zyzomys</td>\n",
       "      <td>maini</td>\n",
       "      <td>Zyzomys maini</td>\n",
       "      <td>-999.0</td>\n",
       "      <td>93.99</td>\n",
       "      <td>-999.0</td>\n",
       "      <td>-999.00</td>\n",
       "      <td>-999.00</td>\n",
       "      <td>...</td>\n",
       "      <td>131.45</td>\n",
       "      <td>132.66</td>\n",
       "      <td>0</td>\n",
       "      <td>0.17</td>\n",
       "      <td>0.0</td>\n",
       "      <td>0.00</td>\n",
       "      <td>90.76</td>\n",
       "      <td>265.30</td>\n",
       "      <td>877.90</td>\n",
       "      <td>1755.73</td>\n",
       "    </tr>\n",
       "    <tr>\n",
       "      <th>5413</th>\n",
       "      <td>Rodentia</td>\n",
       "      <td>Muridae</td>\n",
       "      <td>Zyzomys</td>\n",
       "      <td>palatilis</td>\n",
       "      <td>Zyzomys palatilis</td>\n",
       "      <td>-999.0</td>\n",
       "      <td>123.00</td>\n",
       "      <td>-999.0</td>\n",
       "      <td>-999.00</td>\n",
       "      <td>-999.00</td>\n",
       "      <td>...</td>\n",
       "      <td>136.72</td>\n",
       "      <td>137.08</td>\n",
       "      <td>0</td>\n",
       "      <td>0.00</td>\n",
       "      <td>0.0</td>\n",
       "      <td>-999.00</td>\n",
       "      <td>49.00</td>\n",
       "      <td>247.16</td>\n",
       "      <td>637.90</td>\n",
       "      <td>1638.67</td>\n",
       "    </tr>\n",
       "    <tr>\n",
       "      <th>5414</th>\n",
       "      <td>Rodentia</td>\n",
       "      <td>Muridae</td>\n",
       "      <td>Zyzomys</td>\n",
       "      <td>pedunculatus</td>\n",
       "      <td>Zyzomys pedunculatus</td>\n",
       "      <td>-999.0</td>\n",
       "      <td>100.00</td>\n",
       "      <td>-999.0</td>\n",
       "      <td>126.79</td>\n",
       "      <td>-999.00</td>\n",
       "      <td>...</td>\n",
       "      <td>130.16</td>\n",
       "      <td>132.97</td>\n",
       "      <td>0</td>\n",
       "      <td>0.09</td>\n",
       "      <td>0.0</td>\n",
       "      <td>0.25</td>\n",
       "      <td>21.64</td>\n",
       "      <td>215.72</td>\n",
       "      <td>291.82</td>\n",
       "      <td>1405.85</td>\n",
       "    </tr>\n",
       "    <tr>\n",
       "      <th>5415</th>\n",
       "      <td>Rodentia</td>\n",
       "      <td>Muridae</td>\n",
       "      <td>Zyzomys</td>\n",
       "      <td>woodwardi</td>\n",
       "      <td>Zyzomys woodwardi</td>\n",
       "      <td>-999.0</td>\n",
       "      <td>95.02</td>\n",
       "      <td>-999.0</td>\n",
       "      <td>146.07</td>\n",
       "      <td>-999.00</td>\n",
       "      <td>...</td>\n",
       "      <td>123.42</td>\n",
       "      <td>125.55</td>\n",
       "      <td>0</td>\n",
       "      <td>0.00</td>\n",
       "      <td>0.0</td>\n",
       "      <td>-999.00</td>\n",
       "      <td>79.45</td>\n",
       "      <td>280.41</td>\n",
       "      <td>798.86</td>\n",
       "      <td>1765.19</td>\n",
       "    </tr>\n",
       "  </tbody>\n",
       "</table>\n",
       "<p>5416 rows × 55 columns</p>\n",
       "</div>"
      ],
      "text/plain": [
       "       MSW05_Order MSW05_Family MSW05_Genus MSW05_Species  \\\n",
       "0     Artiodactyla    Camelidae     Camelus   dromedarius   \n",
       "1        Carnivora      Canidae       Canis       adustus   \n",
       "2        Carnivora      Canidae       Canis        aureus   \n",
       "3        Carnivora      Canidae       Canis       latrans   \n",
       "4        Carnivora      Canidae       Canis         lupus   \n",
       "...            ...          ...         ...           ...   \n",
       "5411      Rodentia      Muridae     Zyzomys       argurus   \n",
       "5412      Rodentia      Muridae     Zyzomys         maini   \n",
       "5413      Rodentia      Muridae     Zyzomys     palatilis   \n",
       "5414      Rodentia      Muridae     Zyzomys  pedunculatus   \n",
       "5415      Rodentia      Muridae     Zyzomys     woodwardi   \n",
       "\n",
       "            MSW05_Binomial  1-1_ActivityCycle  5-1_AdultBodyMass_g  \\\n",
       "0      Camelus dromedarius                3.0            492714.47   \n",
       "1            Canis adustus                1.0             10392.49   \n",
       "2             Canis aureus                2.0              9658.70   \n",
       "3            Canis latrans                2.0             11989.10   \n",
       "4              Canis lupus                2.0             31756.51   \n",
       "...                    ...                ...                  ...   \n",
       "5411       Zyzomys argurus             -999.0                40.42   \n",
       "5412         Zyzomys maini             -999.0                93.99   \n",
       "5413     Zyzomys palatilis             -999.0               123.00   \n",
       "5414  Zyzomys pedunculatus             -999.0               100.00   \n",
       "5415     Zyzomys woodwardi             -999.0                95.02   \n",
       "\n",
       "      8-1_AdultForearmLen_mm  13-1_AdultHeadBodyLen_mm  2-1_AgeatEyeOpening_d  \\\n",
       "0                     -999.0                   -999.00                -999.00   \n",
       "1                     -999.0                    745.32                -999.00   \n",
       "2                     -999.0                    827.53                   7.50   \n",
       "3                     -999.0                    872.39                  11.94   \n",
       "4                     -999.0                   1055.00                  14.01   \n",
       "...                      ...                       ...                    ...   \n",
       "5411                  -999.0                    107.83                -999.00   \n",
       "5412                  -999.0                   -999.00                -999.00   \n",
       "5413                  -999.0                   -999.00                -999.00   \n",
       "5414                  -999.0                    126.79                -999.00   \n",
       "5415                  -999.0                    146.07                -999.00   \n",
       "\n",
       "      ...  26-6_GR_MinLong_dd  26-7_GR_MidRangeLong_dd  \\\n",
       "0     ...             -999.00                  -999.00   \n",
       "1     ...              -17.53                    13.00   \n",
       "2     ...              -17.05                    45.74   \n",
       "3     ...             -168.12                  -117.60   \n",
       "4     ...             -171.84                     3.90   \n",
       "...   ...                 ...                      ...   \n",
       "5411  ...              114.33                   131.09   \n",
       "5412  ...              131.45                   132.66   \n",
       "5413  ...              136.72                   137.08   \n",
       "5414  ...              130.16                   132.97   \n",
       "5415  ...              123.42                   125.55   \n",
       "\n",
       "      27-1_HuPopDen_Min_n/km2  27-2_HuPopDen_Mean_n/km2  \\\n",
       "0                        -999                   -999.00   \n",
       "1                           0                     35.20   \n",
       "2                           0                     79.29   \n",
       "3                           0                     27.27   \n",
       "4                           0                     37.87   \n",
       "...                       ...                       ...   \n",
       "5411                        0                      1.10   \n",
       "5412                        0                      0.17   \n",
       "5413                        0                      0.00   \n",
       "5414                        0                      0.09   \n",
       "5415                        0                      0.00   \n",
       "\n",
       "      27-3_HuPopDen_5p_n/km2  27-4_HuPopDen_Change  28-1_Precip_Mean_mm  \\\n",
       "0                     -999.0               -999.00              -999.00   \n",
       "1                        1.0                  0.14                90.75   \n",
       "2                        0.0                  0.10                44.61   \n",
       "3                        0.0                  0.06                53.03   \n",
       "4                        0.0                  0.04                34.79   \n",
       "...                      ...                   ...                  ...   \n",
       "5411                     0.0                  0.02                62.33   \n",
       "5412                     0.0                  0.00                90.76   \n",
       "5413                     0.0               -999.00                49.00   \n",
       "5414                     0.0                  0.25                21.64   \n",
       "5415                     0.0               -999.00                79.45   \n",
       "\n",
       "      28-2_Temp_Mean_01degC  30-1_AET_Mean_mm  30-2_PET_Mean_mm  \n",
       "0                   -999.00           -999.00           -999.00  \n",
       "1                    236.51            922.90           1534.40  \n",
       "2                    217.23            438.02           1358.98  \n",
       "3                     58.18            503.02            728.37  \n",
       "4                      4.82            313.33            561.11  \n",
       "...                     ...               ...               ...  \n",
       "5411                 256.75            692.93           1704.98  \n",
       "5412                 265.30            877.90           1755.73  \n",
       "5413                 247.16            637.90           1638.67  \n",
       "5414                 215.72            291.82           1405.85  \n",
       "5415                 280.41            798.86           1765.19  \n",
       "\n",
       "[5416 rows x 55 columns]"
      ]
     },
     "metadata": {},
     "output_type": "display_data"
    }
   ],
   "source": [
    "import pandas as pd\n",
    "df = pd.read_csv('PanTHERIA_1-0_WR05_Aug2008.txt',delimiter = \"\\t\")\n",
    "display(df)"
   ]
  },
  {
   "cell_type": "markdown",
   "id": "bb243e43",
   "metadata": {},
   "source": [
    "## Masse corporelle distribution des valeurs\n",
    "\n",
    "Nous pouvons observer que certaines valeurs sont impossibles (comme -999.0), ces valeurs posent problèmes pour le calcul de la moyenne, de la médian et pour la suite du travail.\n",
    "\n",
    "Il convient donc de les \"nettoyer\" avant de continuer, dans un premier temps essayons d'ignorer toutes les valeurs négatives car elles n'ont pas de sens dans ce contexte."
   ]
  },
  {
   "cell_type": "code",
   "execution_count": 2,
   "id": "4549d69d",
   "metadata": {},
   "outputs": [
    {
     "name": "stdout",
     "output_type": "stream",
     "text": [
      "5-1_AdultBodyMass_g   -999.0\n",
      "dtype: float64\n",
      "5-1_AdultBodyMass_g    154321304.5\n",
      "dtype: float64\n",
      "5-1_AdultBodyMass_g    115940.09212\n",
      "dtype: float64\n",
      "5-1_AdultBodyMass_g    23.125\n",
      "dtype: float64\n"
     ]
    }
   ],
   "source": [
    "adultBodyMass = df[[\"5-1_AdultBodyMass_g\"]]\n",
    "print(adultBodyMass.min())\n",
    "print(adultBodyMass.max())\n",
    "print(adultBodyMass.mean())\n",
    "print(adultBodyMass.median())"
   ]
  },
  {
   "cell_type": "code",
   "execution_count": 3,
   "id": "17a8c4f4",
   "metadata": {},
   "outputs": [
    {
     "name": "stdout",
     "output_type": "stream",
     "text": [
      "5-1_AdultBodyMass_g    1.96\n",
      "dtype: float64\n",
      "5-1_AdultBodyMass_g    154321304.5\n",
      "dtype: float64\n",
      "5-1_AdultBodyMass_g    177810.182078\n",
      "dtype: float64\n",
      "5-1_AdultBodyMass_g    104.465\n",
      "dtype: float64\n"
     ]
    }
   ],
   "source": [
    "adultBodyMass = df[[\"5-1_AdultBodyMass_g\"]]\n",
    "adultBodyMassWnV= adultBodyMass[(adultBodyMass[\"5-1_AdultBodyMass_g\"]>0)]\n",
    "print(adultBodyMassWnV.min())\n",
    "print(adultBodyMassWnV.max())\n",
    "print(adultBodyMassWnV.mean())\n",
    "print(adultBodyMassWnV.median())"
   ]
  },
  {
   "cell_type": "markdown",
   "id": "f4503718",
   "metadata": {},
   "source": [
    "### Histogramme des masses corporelles\n",
    "\n",
    "Maintenant que nos données ont l'air cohérente générons un histogramme\n",
    "\n",
    "On peut voir que la différence parfois énorme de poids entre certains animaux rend l'histogramme difficile à lire et peu utile."
   ]
  },
  {
   "cell_type": "code",
   "execution_count": 4,
   "id": "3f4bf027",
   "metadata": {
    "scrolled": true
   },
   "outputs": [
    {
     "data": {
      "text/plain": [
       "array([[<AxesSubplot:title={'center':'5-1_AdultBodyMass_g'}>]],\n",
       "      dtype=object)"
      ]
     },
     "execution_count": 4,
     "metadata": {},
     "output_type": "execute_result"
    },
    {
     "data": {
      "image/png": "[encoded data removed]",
      "text/plain": [
       "<Figure size 432x288 with 1 Axes>"
      ]
     },
     "metadata": {
      "needs_background": "light"
     },
     "output_type": "display_data"
    }
   ],
   "source": [
    "adultBodyMassWnV.hist()"
   ]
  },
  {
   "cell_type": "markdown",
   "id": "d325ac76",
   "metadata": {},
   "source": [
    "### Histogramme des masses corporelles pour les animaux <= 50 kg\n",
    "\n",
    "Cette fois en ayant une catégorie de poids plus restreinte l'histogramme devient lisible et il est plus facile de travailler ainsi."
   ]
  },
  {
   "cell_type": "code",
   "execution_count": 5,
   "id": "4efc42f8",
   "metadata": {},
   "outputs": [
    {
     "data": {
      "text/plain": [
       "array([[<AxesSubplot:title={'center':'5-1_AdultBodyMass_g'}>]],\n",
       "      dtype=object)"
      ]
     },
     "execution_count": 5,
     "metadata": {},
     "output_type": "execute_result"
    },
    {
     "data": {
      "image/png": "[encoded data removed]",
      "text/plain": [
       "<Figure size 432x288 with 1 Axes>"
      ]
     },
     "metadata": {
      "needs_background": "light"
     },
     "output_type": "display_data"
    }
   ],
   "source": [
    "adultBodyMassWnVbis= adultBodyMassWnV[(adultBodyMassWnV[\"5-1_AdultBodyMass_g\"]<=50)]\n",
    "adultBodyMassWnVbis.hist()"
   ]
  },
  {
   "cell_type": "markdown",
   "id": "0e0e4b2a",
   "metadata": {},
   "source": [
    "# Loi de Benford\n",
    "\n",
    "Pour trouver le chiffre le plus significatif de la masse des animaux nous allons reprendre les données \"nettoyer\" auparavant.\n",
    "\n",
    "Ensuite nous allons faire une première fonction pour trouver le chiffre le plus significatif de notre dataset."
   ]
  },
  {
   "cell_type": "code",
   "execution_count": 13,
   "id": "3965841c",
   "metadata": {},
   "outputs": [],
   "source": [
    "def fDigit(number) :\n",
    "    while number[0] >= 10:\n",
    "        number[0] = number[0] / 10;\n",
    "    return int(number[0])\n",
    "\n",
    "def signifDigitDataSet(dataset):\n",
    "    dataset=dataset.to_numpy()\n",
    "    un=deux=trois=quatre=cinq=six=sept=huit=neuf=0  \n",
    "    for x,val in enumerate(dataset):\n",
    "        if fDigit(dataset[x])==1:\n",
    "            un=un+1\n",
    "        elif fDigit(dataset[x])==2:\n",
    "            deux=1+deux\n",
    "        elif fDigit(dataset[x])==3:\n",
    "            trois=1+trois\n",
    "        elif fDigit(dataset[x])==4:\n",
    "            quatre=1+quatre\n",
    "        elif fDigit(dataset[x])==5:\n",
    "            cinq=1+cinq\n",
    "        elif fDigit(dataset[x])==6:\n",
    "            six=1+six\n",
    "        elif fDigit(dataset[x])==7:\n",
    "            sept=1+sept\n",
    "        elif fDigit(dataset[x])==8:\n",
    "            huit=1+huit\n",
    "        elif fDigit(dataset[x])==9:\n",
    "            neuf=1+neuf\n",
    "    if un >= max(deux,trois,quatre,cinq,six,sept,huit,neuf):\n",
    "        return 1\n",
    "    elif deux > max(un,trois,quatre,cinq,six,sept,huit,neuf):\n",
    "        return 2\n",
    "    elif trois > max(un,deux,quatre,cinq,six,sept,huit,neuf):\n",
    "        return 3\n",
    "    elif quatre > max(un,deux,trois,cinq,six,sept,huit,neuf):\n",
    "        return 4\n",
    "    elif cinq > max(un,deux,trois,quatre,six,sept,huit,neuf):\n",
    "        return 5\n",
    "    elif six > max(un,deux,trois,quatre,cinq,sept,huit,neuf):\n",
    "        return 6\n",
    "    elif sept > max(un,deux,trois,quatre,cinq,six,huit,neuf):\n",
    "        return 7\n",
    "    elif huit > max(un,deux,trois,quatre,cinq,six,sept,neuf):\n",
    "        return 8\n",
    "    elif neuf > max(un,deux,trois,quatre,cinq,six,sept,huit):\n",
    "        return 9\n",
    "    else:\n",
    "        return -1\n"
   ]
  },
  {
   "cell_type": "code",
   "execution_count": 14,
   "id": "50706065",
   "metadata": {},
   "outputs": [
    {
     "name": "stdout",
     "output_type": "stream",
     "text": [
      "Chiffre le plus significatif :  1\n"
     ]
    }
   ],
   "source": [
    "print(\"Chiffre le plus significatif : \",signifDigitDataSet(adultBodyMassWnV))\n",
    "\n"
   ]
  },
  {
   "cell_type": "markdown",
   "id": "d13d98ff",
   "metadata": {},
   "source": [
    "## Fréquence d'apparition\n",
    "\n",
    "Etant donnée qu'un compteur est déjà présent dans la première fonction il suffit de la modifier un peu pour calculez la fréquence d'apparition de chaque digit pour l'ensemble des animaux."
   ]
  },
  {
   "cell_type": "code",
   "execution_count": 17,
   "id": "2029ab62",
   "metadata": {},
   "outputs": [],
   "source": [
    "import numpy as np\n",
    "def frequencySignifDigitDataSet(dataset):\n",
    "    dataset=dataset.to_numpy()\n",
    "    un=deux=trois=quatre=cinq=six=sept=huit=neuf=0  \n",
    "    for x,val in enumerate(dataset):\n",
    "        if fDigit(dataset[x])==1:\n",
    "            un=un+1\n",
    "        elif fDigit(dataset[x])==2:\n",
    "            deux=1+deux\n",
    "        elif fDigit(dataset[x])==3:\n",
    "            trois=1+trois\n",
    "        elif fDigit(dataset[x])==4:\n",
    "            quatre=1+quatre\n",
    "        elif fDigit(dataset[x])==5:\n",
    "            cinq=1+cinq\n",
    "        elif fDigit(dataset[x])==6:\n",
    "            six=1+six\n",
    "        elif fDigit(dataset[x])==7:\n",
    "            sept=1+sept\n",
    "        elif fDigit(dataset[x])==8:\n",
    "            huit=1+huit\n",
    "        elif fDigit(dataset[x])==9:\n",
    "            neuf=1+neuf\n",
    "    total= len(dataset)\n",
    "    listCount =[]\n",
    "    listCount.extend([un,deux,trois,quatre,cinq,six,sept,huit,neuf])\n",
    "    frequence =np.array(([un*100/total,deux*100/total,trois*100/total,quatre*100/total,cinq*100/total,six*100/total,sept*100/total,huit*100/total,neuf*100/total]))\n",
    "    return frequence"
   ]
  },
  {
   "cell_type": "code",
   "execution_count": 18,
   "id": "91540bfb",
   "metadata": {},
   "outputs": [
    {
     "data": {
      "image/png": "[encoded data removed]",
      "text/plain": [
       "<Figure size 432x288 with 1 Axes>"
      ]
     },
     "metadata": {
      "needs_background": "light"
     },
     "output_type": "display_data"
    }
   ],
   "source": [
    "frequenceBodyMass=frequencySignifDigitDataSet(adultBodyMassWnV)\n",
    "\n",
    "import matplotlib.pyplot as plt\n",
    "%matplotlib inline\n",
    "\n",
    "x = ['1', '2', '3', '4', '5', '6','7','8','9']\n",
    "\n",
    "plt.bar(x, frequenceBodyMass)\n",
    "plt.xlabel(\"Digit\")\n",
    "plt.ylabel(\"Fréquence\")\n",
    "plt.title(\"Fréquence d'apparition du chiffre le plus significatif pour la masse corporelle des animaux\")\n",
    "plt.show()"
   ]
  },
  {
   "cell_type": "code",
   "execution_count": 19,
   "id": "41b6febb",
   "metadata": {},
   "outputs": [
    {
     "data": {
      "image/png": "[encoded data removed]",
      "text/plain": [
       "<Figure size 432x288 with 1 Axes>"
      ]
     },
     "metadata": {
      "needs_background": "light"
     },
     "output_type": "display_data"
    }
   ],
   "source": [
    "import matplotlib.pyplot as plt\n",
    "%matplotlib inline\n",
    "\n",
    "x = ['1', '2', '3', '4', '5', '6','7','8','9']\n",
    "y = [30.1, 17.6, 12.5, 9.7, 7.9, 6.7, 5.8, 5.1, 4.6]\n",
    "plt.bar(x, y)\n",
    "plt.xlabel(\"Digit\")\n",
    "plt.ylabel(\"Fréquence\")\n",
    "plt.title(\"Loi de Benford\")\n",
    "plt.show()"
   ]
  },
  {
   "cell_type": "markdown",
   "id": "dabbd32a",
   "metadata": {},
   "source": [
    "## Compraison\n",
    "\n",
    "Nous pouvons voir que effectivement la fréquence de distribution suit la loi de Benford, avec peut-être comme exeption le chiffre 4."
   ]
  },
  {
   "cell_type": "markdown",
   "id": "84c78470",
   "metadata": {},
   "source": [
    "## Essaie avec la variable taille de la tête\n"
   ]
  },
  {
   "cell_type": "code",
   "execution_count": 22,
   "id": "be9caa23",
   "metadata": {},
   "outputs": [
    {
     "data": {
      "image/png": "[encoded data removed]",
      "text/plain": [
       "<Figure size 432x288 with 1 Axes>"
      ]
     },
     "metadata": {
      "needs_background": "light"
     },
     "output_type": "display_data"
    }
   ],
   "source": [
    "headLen = df[[\"13-1_AdultHeadBodyLen_mm\"]]\n",
    "headLenWnV= headLen[(headLen[\"13-1_AdultHeadBodyLen_mm\"]>0)]\n",
    "\n",
    "frenquencyHeadLen=frequencySignifDigitDataSet(headLenWnV)\n",
    "\n",
    "import matplotlib.pyplot as plt\n",
    "%matplotlib inline\n",
    "\n",
    "x = ['1', '2', '3', '4', '5', '6','7','8','9']\n",
    "\n",
    "plt.bar(x, frenquencyHeadLen)\n",
    "plt.xlabel(\"Digit\")\n",
    "plt.ylabel(\"Fréquence\")\n",
    "plt.title(\"Fréquence d'apparition du chiffre le plus significatif pour la taille de la tête des animaux\")\n",
    "plt.show()"
   ]
  }
 ],
 "metadata": {
  "kernelspec": {
   "display_name": "isd",
   "language": "python",
   "name": "isd"
  },
  "language_info": {
   "codemirror_mode": {
    "name": "ipython",
    "version": 3
   },
   "file_extension": ".py",
   "mimetype": "text/x-python",
   "name": "python",
   "nbconvert_exporter": "python",
   "pygments_lexer": "ipython3",
   "version": "3.9.7"
  }
 },
 "nbformat": 4,
 "nbformat_minor": 5
}
